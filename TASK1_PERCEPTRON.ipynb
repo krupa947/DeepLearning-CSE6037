{
 "cells": [
  {
   "cell_type": "markdown",
   "metadata": {
    "papermill": {
     "duration": 0.003504,
     "end_time": "2021-02-25T11:12:49.190137",
     "exception": false,
     "start_time": "2021-02-25T11:12:49.186633",
     "status": "completed"
    },
    "tags": []
   },
   "source": [
    "<div style=\"color:#485053;\n",
    "           display:fill;\n",
    "           border-radius:0px;\n",
    "           background-color:#86C2DE;\n",
    "           font-size:200%;\n",
    "           padding-left:40px; \n",
    "           font-family:Verdana;\n",
    "           font-weight:600; \n",
    "           letter-spacing:0.5px;\n",
    "           \">\n",
    "\n",
    "<p style=\"padding: 15px;\n",
    "          color:white;\n",
    "          text-align: center;\">\n",
    "\n",
    "Deep Learning Assessment - 1 (20MAI0014)\n",
    "</p>\n",
    "</div>\n",
    "\n",
    "# Activity 1: Implement Single Layer Perceptron\n",
    "\n",
    "***X={{1,2,3},{4,5,6},{7,8,9}}***\n",
    "\n",
    "***y={0,1,1}***\n",
    "\n",
    "***x_test={4,7,8}***\n",
    "\n",
    "***y_pred=?***\n",
    "\n",
    "![](https://miro.medium.com/max/645/0*LJBO8UbtzK_SKMog)"
   ]
  },
  {
   "cell_type": "code",
   "execution_count": 1,
   "metadata": {
    "execution": {
     "iopub.execute_input": "2021-02-25T11:12:49.209933Z",
     "iopub.status.busy": "2021-02-25T11:12:49.208873Z",
     "iopub.status.idle": "2021-02-25T11:12:49.214076Z",
     "shell.execute_reply": "2021-02-25T11:12:49.212931Z"
    },
    "papermill": {
     "duration": 0.021587,
     "end_time": "2021-02-25T11:12:49.214378",
     "exception": false,
     "start_time": "2021-02-25T11:12:49.192791",
     "status": "completed"
    },
    "tags": []
   },
   "outputs": [
    {
     "name": "stdout",
     "output_type": "stream",
     "text": [
      "Learning rate : 0.001\n",
      "Epochs : 10\n",
      "\n",
      "Error in each epoch :\n",
      "error=2.000\n",
      "error=1.000\n",
      "error=2.000\n",
      "error=1.000\n",
      "error=2.000\n",
      "error=1.000\n",
      "error=1.000\n",
      "error=0.000\n",
      "error=0.000\n",
      "error=0.000\n",
      "Predicted Output for x={4,3,2} is : True\n"
     ]
    }
   ],
   "source": [
    "#This predict function will calculate the aggregation of weighted sum of inputs.\n",
    "def predict(row, weights):\n",
    "    activation = weights[0]\n",
    "    for i in range(len(row)-1):\n",
    "        activation += weights[i + 1] * row[i]\n",
    "    return 1.0 if activation >= 0.0 else 0.0\n",
    " \n",
    "# compute weights from training data\n",
    "def train_w(data, l_rate, n_epoch):\n",
    "    weights = [0.0 for i in range(len(data[0]))]\n",
    "    for epoch in range(n_epoch):\n",
    "        serror = 0.0\n",
    "        for row in data:\n",
    "            prediction = predict(row, weights)\n",
    "            error = row[-1] - prediction\n",
    "            serror += error**2\n",
    "            weights[0] = weights[0] + l_rate * error\n",
    "            for i in range(len(row)-1):\n",
    "                weights[i + 1] = weights[i + 1] + l_rate * error * row[i]\n",
    "        print('error=%.3f' % (serror))\n",
    "    return weights\n",
    " \n",
    "# Calculate weights\n",
    "dataset = [[1,2,3,0],[4,5,6,1],[7,8,9,1]]\n",
    "learning_rate = 0.001\n",
    "n_epoch = 10\n",
    "print(\"Learning rate :\",learning_rate)\n",
    "print(\"Epochs :\",n_epoch)\n",
    "print(\"\\nError in each epoch :\")\n",
    "weights = train_w(dataset, learning_rate, n_epoch)\n",
    "test_predict=0\n",
    "test_data=[4,3,2]\n",
    "sum=0\n",
    "for i in range(3):\n",
    "    sum+=test_data[i]*weights[i+1]\n",
    "sum+=weights[0]\n",
    "\n",
    "print(\"Predicted Output for x={4,3,2} is :\",sum>0.0)\n"
   ]
  }
 ],
 "metadata": {
  "kernelspec": {
   "display_name": "Python 3",
   "language": "python",
   "name": "python3"
  },
  "language_info": {
   "codemirror_mode": {
    "name": "ipython",
    "version": 3
   },
   "file_extension": ".py",
   "mimetype": "text/x-python",
   "name": "python",
   "nbconvert_exporter": "python",
   "pygments_lexer": "ipython3",
   "version": "3.7.9"
  },
  "papermill": {
   "default_parameters": {},
   "duration": 6.93344,
   "end_time": "2021-02-25T11:12:49.827196",
   "environment_variables": {},
   "exception": null,
   "input_path": "__notebook__.ipynb",
   "output_path": "__notebook__.ipynb",
   "parameters": {},
   "start_time": "2021-02-25T11:12:42.893756",
   "version": "2.2.2"
  }
 },
 "nbformat": 4,
 "nbformat_minor": 4
}
