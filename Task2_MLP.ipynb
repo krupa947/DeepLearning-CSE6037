{
 "cells": [
  {
   "cell_type": "markdown",
   "metadata": {
    "papermill": {
     "duration": 0.012878,
     "end_time": "2021-02-25T11:17:58.801650",
     "exception": false,
     "start_time": "2021-02-25T11:17:58.788772",
     "status": "completed"
    },
    "tags": []
   },
   "source": [
    "<div style=\"color:#485053;\n",
    "           display:fill;\n",
    "           border-radius:0px;\n",
    "           background-color:#86C2DE;\n",
    "           font-size:200%;\n",
    "           padding-left:40px; \n",
    "           font-family:Verdana;\n",
    "           font-weight:600; \n",
    "           letter-spacing:0.5px;\n",
    "           \">\n",
    "\n",
    "<p style=\"padding: 15px;\n",
    "          color:white;\n",
    "          text-align: center;\">\n",
    "\n",
    " Deep Learning - Activity 2\n",
    "</p>\n",
    "</div> "
   ]
  },
  {
   "cell_type": "code",
   "execution_count": 1,
   "metadata": {
    "execution": {
     "iopub.execute_input": "2021-02-25T11:17:58.845065Z",
     "iopub.status.busy": "2021-02-25T11:17:58.830919Z",
     "iopub.status.idle": "2021-02-25T11:18:07.570989Z",
     "shell.execute_reply": "2021-02-25T11:18:07.570228Z"
    },
    "papermill": {
     "duration": 8.757578,
     "end_time": "2021-02-25T11:18:07.571188",
     "exception": false,
     "start_time": "2021-02-25T11:17:58.813610",
     "status": "completed"
    },
    "tags": []
   },
   "outputs": [
    {
     "name": "stdout",
     "output_type": "stream",
     "text": [
      "Collecting xlrd\r\n",
      "  Downloading xlrd-2.0.1-py2.py3-none-any.whl (96 kB)\r\n",
      "\u001b[K     |████████████████████████████████| 96 kB 1.1 MB/s \r\n",
      "\u001b[?25hInstalling collected packages: xlrd\r\n",
      "Successfully installed xlrd-2.0.1\r\n",
      "Note: you may need to restart the kernel to use updated packages.\n"
     ]
    }
   ],
   "source": [
    "pip install xlrd"
   ]
  },
  {
   "cell_type": "code",
   "execution_count": 2,
   "metadata": {
    "execution": {
     "iopub.execute_input": "2021-02-25T11:18:07.607509Z",
     "iopub.status.busy": "2021-02-25T11:18:07.603964Z",
     "iopub.status.idle": "2021-02-25T11:18:16.934353Z",
     "shell.execute_reply": "2021-02-25T11:18:16.934874Z"
    },
    "papermill": {
     "duration": 9.349494,
     "end_time": "2021-02-25T11:18:16.935048",
     "exception": false,
     "start_time": "2021-02-25T11:18:07.585554",
     "status": "completed"
    },
    "tags": []
   },
   "outputs": [
    {
     "name": "stdout",
     "output_type": "stream",
     "text": [
      "Collecting openpyxl\r\n",
      "  Downloading openpyxl-3.0.6-py2.py3-none-any.whl (242 kB)\r\n",
      "\u001b[K     |████████████████████████████████| 242 kB 1.3 MB/s \r\n",
      "\u001b[?25hCollecting et-xmlfile\r\n",
      "  Downloading et_xmlfile-1.0.1.tar.gz (8.4 kB)\r\n",
      "Collecting jdcal\r\n",
      "  Downloading jdcal-1.4.1-py2.py3-none-any.whl (9.5 kB)\r\n",
      "Building wheels for collected packages: et-xmlfile\r\n",
      "  Building wheel for et-xmlfile (setup.py) ... \u001b[?25l-\b \b\\\b \bdone\r\n",
      "\u001b[?25h  Created wheel for et-xmlfile: filename=et_xmlfile-1.0.1-py3-none-any.whl size=8913 sha256=0a5153ca28a6d50924435b2153b7e9ab01c0aa51adf9916997d56e0b2723612f\r\n",
      "  Stored in directory: /root/.cache/pip/wheels/e2/bd/55/048b4fd505716c4c298f42ee02dffd9496bb6d212b266c7f31\r\n",
      "Successfully built et-xmlfile\r\n",
      "Installing collected packages: jdcal, et-xmlfile, openpyxl\r\n",
      "Successfully installed et-xmlfile-1.0.1 jdcal-1.4.1 openpyxl-3.0.6\r\n",
      "Note: you may need to restart the kernel to use updated packages.\n"
     ]
    }
   ],
   "source": [
    "pip install openpyxl"
   ]
  },
  {
   "cell_type": "markdown",
   "metadata": {
    "papermill": {
     "duration": 0.018435,
     "end_time": "2021-02-25T11:18:16.973076",
     "exception": false,
     "start_time": "2021-02-25T11:18:16.954641",
     "status": "completed"
    },
    "tags": []
   },
   "source": [
    "# PATH OF DATASET"
   ]
  },
  {
   "cell_type": "code",
   "execution_count": 3,
   "metadata": {
    "execution": {
     "iopub.execute_input": "2021-02-25T11:18:17.014729Z",
     "iopub.status.busy": "2021-02-25T11:18:17.014104Z",
     "iopub.status.idle": "2021-02-25T11:18:17.017460Z",
     "shell.execute_reply": "2021-02-25T11:18:17.016953Z"
    },
    "papermill": {
     "duration": 0.026197,
     "end_time": "2021-02-25T11:18:17.017600",
     "exception": false,
     "start_time": "2021-02-25T11:18:16.991403",
     "status": "completed"
    },
    "tags": []
   },
   "outputs": [],
   "source": [
    "path=\"https://archive.ics.uci.edu/ml/machine-learning-databases/00429/Cryotherapy.xlsx\""
   ]
  },
  {
   "cell_type": "markdown",
   "metadata": {
    "papermill": {
     "duration": 0.018241,
     "end_time": "2021-02-25T11:18:17.054723",
     "exception": false,
     "start_time": "2021-02-25T11:18:17.036482",
     "status": "completed"
    },
    "tags": []
   },
   "source": [
    "# LIBRARIES AND LOAD DATA"
   ]
  },
  {
   "cell_type": "code",
   "execution_count": 4,
   "metadata": {
    "execution": {
     "iopub.execute_input": "2021-02-25T11:18:17.098454Z",
     "iopub.status.busy": "2021-02-25T11:18:17.097383Z",
     "iopub.status.idle": "2021-02-25T11:18:17.985501Z",
     "shell.execute_reply": "2021-02-25T11:18:17.984723Z"
    },
    "papermill": {
     "duration": 0.912043,
     "end_time": "2021-02-25T11:18:17.985726",
     "exception": false,
     "start_time": "2021-02-25T11:18:17.073683",
     "status": "completed"
    },
    "tags": []
   },
   "outputs": [
    {
     "name": "stdout",
     "output_type": "stream",
     "text": [
      "    sex  age   Time  Number_of_Warts  Type  Area  Result_of_Treatment\n",
      "0     1   35  12.00                5     1   100                    0\n",
      "1     1   29   7.00                5     1    96                    1\n",
      "2     1   50   8.00                1     3   132                    0\n",
      "3     1   32  11.75                7     3   750                    0\n",
      "4     1   67   9.25                1     1    42                    0\n",
      "..  ...  ...    ...              ...   ...   ...                  ...\n",
      "85    2   34  12.00                3     3    95                    0\n",
      "86    2   20   3.50                6     1    75                    1\n",
      "87    2   35   8.25                8     3   100                    0\n",
      "88    1   24  10.75               10     1    20                    1\n",
      "89    1   19   8.00                8     1   160                    1\n",
      "\n",
      "[90 rows x 7 columns]\n"
     ]
    }
   ],
   "source": [
    "import pandas as pd\n",
    "import numpy as np\n",
    "df=pd.read_excel(path)\n",
    "print(df)"
   ]
  },
  {
   "cell_type": "markdown",
   "metadata": {
    "papermill": {
     "duration": 0.01896,
     "end_time": "2021-02-25T11:18:18.024400",
     "exception": false,
     "start_time": "2021-02-25T11:18:18.005440",
     "status": "completed"
    },
    "tags": []
   },
   "source": [
    "# Data Visualisation"
   ]
  },
  {
   "cell_type": "code",
   "execution_count": 5,
   "metadata": {
    "execution": {
     "iopub.execute_input": "2021-02-25T11:18:18.088824Z",
     "iopub.status.busy": "2021-02-25T11:18:18.085513Z",
     "iopub.status.idle": "2021-02-25T11:18:18.099084Z",
     "shell.execute_reply": "2021-02-25T11:18:18.099687Z"
    },
    "papermill": {
     "duration": 0.043387,
     "end_time": "2021-02-25T11:18:18.099874",
     "exception": false,
     "start_time": "2021-02-25T11:18:18.056487",
     "status": "completed"
    },
    "tags": []
   },
   "outputs": [
    {
     "data": {
      "text/html": [
       "<div>\n",
       "<style scoped>\n",
       "    .dataframe tbody tr th:only-of-type {\n",
       "        vertical-align: middle;\n",
       "    }\n",
       "\n",
       "    .dataframe tbody tr th {\n",
       "        vertical-align: top;\n",
       "    }\n",
       "\n",
       "    .dataframe thead th {\n",
       "        text-align: right;\n",
       "    }\n",
       "</style>\n",
       "<table border=\"1\" class=\"dataframe\">\n",
       "  <thead>\n",
       "    <tr style=\"text-align: right;\">\n",
       "      <th></th>\n",
       "      <th>sex</th>\n",
       "      <th>age</th>\n",
       "      <th>Time</th>\n",
       "      <th>Number_of_Warts</th>\n",
       "      <th>Type</th>\n",
       "      <th>Area</th>\n",
       "      <th>Result_of_Treatment</th>\n",
       "    </tr>\n",
       "  </thead>\n",
       "  <tbody>\n",
       "    <tr>\n",
       "      <th>0</th>\n",
       "      <td>1</td>\n",
       "      <td>35</td>\n",
       "      <td>12.00</td>\n",
       "      <td>5</td>\n",
       "      <td>1</td>\n",
       "      <td>100</td>\n",
       "      <td>0</td>\n",
       "    </tr>\n",
       "    <tr>\n",
       "      <th>1</th>\n",
       "      <td>1</td>\n",
       "      <td>29</td>\n",
       "      <td>7.00</td>\n",
       "      <td>5</td>\n",
       "      <td>1</td>\n",
       "      <td>96</td>\n",
       "      <td>1</td>\n",
       "    </tr>\n",
       "    <tr>\n",
       "      <th>2</th>\n",
       "      <td>1</td>\n",
       "      <td>50</td>\n",
       "      <td>8.00</td>\n",
       "      <td>1</td>\n",
       "      <td>3</td>\n",
       "      <td>132</td>\n",
       "      <td>0</td>\n",
       "    </tr>\n",
       "    <tr>\n",
       "      <th>3</th>\n",
       "      <td>1</td>\n",
       "      <td>32</td>\n",
       "      <td>11.75</td>\n",
       "      <td>7</td>\n",
       "      <td>3</td>\n",
       "      <td>750</td>\n",
       "      <td>0</td>\n",
       "    </tr>\n",
       "    <tr>\n",
       "      <th>4</th>\n",
       "      <td>1</td>\n",
       "      <td>67</td>\n",
       "      <td>9.25</td>\n",
       "      <td>1</td>\n",
       "      <td>1</td>\n",
       "      <td>42</td>\n",
       "      <td>0</td>\n",
       "    </tr>\n",
       "    <tr>\n",
       "      <th>5</th>\n",
       "      <td>1</td>\n",
       "      <td>41</td>\n",
       "      <td>8.00</td>\n",
       "      <td>2</td>\n",
       "      <td>2</td>\n",
       "      <td>20</td>\n",
       "      <td>1</td>\n",
       "    </tr>\n",
       "    <tr>\n",
       "      <th>6</th>\n",
       "      <td>1</td>\n",
       "      <td>36</td>\n",
       "      <td>11.00</td>\n",
       "      <td>2</td>\n",
       "      <td>1</td>\n",
       "      <td>8</td>\n",
       "      <td>0</td>\n",
       "    </tr>\n",
       "  </tbody>\n",
       "</table>\n",
       "</div>"
      ],
      "text/plain": [
       "   sex  age   Time  Number_of_Warts  Type  Area  Result_of_Treatment\n",
       "0    1   35  12.00                5     1   100                    0\n",
       "1    1   29   7.00                5     1    96                    1\n",
       "2    1   50   8.00                1     3   132                    0\n",
       "3    1   32  11.75                7     3   750                    0\n",
       "4    1   67   9.25                1     1    42                    0\n",
       "5    1   41   8.00                2     2    20                    1\n",
       "6    1   36  11.00                2     1     8                    0"
      ]
     },
     "execution_count": 5,
     "metadata": {},
     "output_type": "execute_result"
    }
   ],
   "source": [
    "#df.head will us the glimpse of the dataset\n",
    "df.head(7)"
   ]
  },
  {
   "cell_type": "code",
   "execution_count": 6,
   "metadata": {
    "execution": {
     "iopub.execute_input": "2021-02-25T11:18:18.143187Z",
     "iopub.status.busy": "2021-02-25T11:18:18.142552Z",
     "iopub.status.idle": "2021-02-25T11:18:18.175859Z",
     "shell.execute_reply": "2021-02-25T11:18:18.176429Z"
    },
    "papermill": {
     "duration": 0.056771,
     "end_time": "2021-02-25T11:18:18.176595",
     "exception": false,
     "start_time": "2021-02-25T11:18:18.119824",
     "status": "completed"
    },
    "tags": []
   },
   "outputs": [
    {
     "data": {
      "text/html": [
       "<div>\n",
       "<style scoped>\n",
       "    .dataframe tbody tr th:only-of-type {\n",
       "        vertical-align: middle;\n",
       "    }\n",
       "\n",
       "    .dataframe tbody tr th {\n",
       "        vertical-align: top;\n",
       "    }\n",
       "\n",
       "    .dataframe thead th {\n",
       "        text-align: right;\n",
       "    }\n",
       "</style>\n",
       "<table border=\"1\" class=\"dataframe\">\n",
       "  <thead>\n",
       "    <tr style=\"text-align: right;\">\n",
       "      <th></th>\n",
       "      <th>sex</th>\n",
       "      <th>age</th>\n",
       "      <th>Time</th>\n",
       "      <th>Number_of_Warts</th>\n",
       "      <th>Type</th>\n",
       "      <th>Area</th>\n",
       "      <th>Result_of_Treatment</th>\n",
       "    </tr>\n",
       "  </thead>\n",
       "  <tbody>\n",
       "    <tr>\n",
       "      <th>count</th>\n",
       "      <td>90.000000</td>\n",
       "      <td>90.000000</td>\n",
       "      <td>90.000000</td>\n",
       "      <td>90.000000</td>\n",
       "      <td>90.000000</td>\n",
       "      <td>90.000000</td>\n",
       "      <td>90.000000</td>\n",
       "    </tr>\n",
       "    <tr>\n",
       "      <th>mean</th>\n",
       "      <td>1.477778</td>\n",
       "      <td>28.600000</td>\n",
       "      <td>7.666667</td>\n",
       "      <td>5.511111</td>\n",
       "      <td>1.700000</td>\n",
       "      <td>85.833333</td>\n",
       "      <td>0.533333</td>\n",
       "    </tr>\n",
       "    <tr>\n",
       "      <th>std</th>\n",
       "      <td>0.502304</td>\n",
       "      <td>13.360852</td>\n",
       "      <td>3.406661</td>\n",
       "      <td>3.567155</td>\n",
       "      <td>0.905042</td>\n",
       "      <td>131.733153</td>\n",
       "      <td>0.501683</td>\n",
       "    </tr>\n",
       "    <tr>\n",
       "      <th>min</th>\n",
       "      <td>1.000000</td>\n",
       "      <td>15.000000</td>\n",
       "      <td>0.250000</td>\n",
       "      <td>1.000000</td>\n",
       "      <td>1.000000</td>\n",
       "      <td>4.000000</td>\n",
       "      <td>0.000000</td>\n",
       "    </tr>\n",
       "    <tr>\n",
       "      <th>25%</th>\n",
       "      <td>1.000000</td>\n",
       "      <td>18.000000</td>\n",
       "      <td>4.562500</td>\n",
       "      <td>2.000000</td>\n",
       "      <td>1.000000</td>\n",
       "      <td>20.000000</td>\n",
       "      <td>0.000000</td>\n",
       "    </tr>\n",
       "    <tr>\n",
       "      <th>50%</th>\n",
       "      <td>1.000000</td>\n",
       "      <td>25.500000</td>\n",
       "      <td>8.500000</td>\n",
       "      <td>5.000000</td>\n",
       "      <td>1.000000</td>\n",
       "      <td>70.000000</td>\n",
       "      <td>1.000000</td>\n",
       "    </tr>\n",
       "    <tr>\n",
       "      <th>75%</th>\n",
       "      <td>2.000000</td>\n",
       "      <td>35.000000</td>\n",
       "      <td>10.687500</td>\n",
       "      <td>8.000000</td>\n",
       "      <td>3.000000</td>\n",
       "      <td>100.000000</td>\n",
       "      <td>1.000000</td>\n",
       "    </tr>\n",
       "    <tr>\n",
       "      <th>max</th>\n",
       "      <td>2.000000</td>\n",
       "      <td>67.000000</td>\n",
       "      <td>12.000000</td>\n",
       "      <td>12.000000</td>\n",
       "      <td>3.000000</td>\n",
       "      <td>750.000000</td>\n",
       "      <td>1.000000</td>\n",
       "    </tr>\n",
       "  </tbody>\n",
       "</table>\n",
       "</div>"
      ],
      "text/plain": [
       "             sex        age       Time  Number_of_Warts       Type  \\\n",
       "count  90.000000  90.000000  90.000000        90.000000  90.000000   \n",
       "mean    1.477778  28.600000   7.666667         5.511111   1.700000   \n",
       "std     0.502304  13.360852   3.406661         3.567155   0.905042   \n",
       "min     1.000000  15.000000   0.250000         1.000000   1.000000   \n",
       "25%     1.000000  18.000000   4.562500         2.000000   1.000000   \n",
       "50%     1.000000  25.500000   8.500000         5.000000   1.000000   \n",
       "75%     2.000000  35.000000  10.687500         8.000000   3.000000   \n",
       "max     2.000000  67.000000  12.000000        12.000000   3.000000   \n",
       "\n",
       "             Area  Result_of_Treatment  \n",
       "count   90.000000            90.000000  \n",
       "mean    85.833333             0.533333  \n",
       "std    131.733153             0.501683  \n",
       "min      4.000000             0.000000  \n",
       "25%     20.000000             0.000000  \n",
       "50%     70.000000             1.000000  \n",
       "75%    100.000000             1.000000  \n",
       "max    750.000000             1.000000  "
      ]
     },
     "execution_count": 6,
     "metadata": {},
     "output_type": "execute_result"
    }
   ],
   "source": [
    "# describe the dataset\n",
    "df.describe()"
   ]
  },
  {
   "cell_type": "code",
   "execution_count": 7,
   "metadata": {
    "execution": {
     "iopub.execute_input": "2021-02-25T11:18:18.221330Z",
     "iopub.status.busy": "2021-02-25T11:18:18.220705Z",
     "iopub.status.idle": "2021-02-25T11:18:18.227728Z",
     "shell.execute_reply": "2021-02-25T11:18:18.228254Z"
    },
    "papermill": {
     "duration": 0.031458,
     "end_time": "2021-02-25T11:18:18.228422",
     "exception": false,
     "start_time": "2021-02-25T11:18:18.196964",
     "status": "completed"
    },
    "tags": []
   },
   "outputs": [
    {
     "data": {
      "text/plain": [
       "sex                    0\n",
       "age                    0\n",
       "Time                   0\n",
       "Number_of_Warts        0\n",
       "Type                   0\n",
       "Area                   0\n",
       "Result_of_Treatment    0\n",
       "dtype: int64"
      ]
     },
     "execution_count": 7,
     "metadata": {},
     "output_type": "execute_result"
    }
   ],
   "source": [
    "#checking for missing values\n",
    "df.isnull().sum()"
   ]
  },
  {
   "cell_type": "code",
   "execution_count": 8,
   "metadata": {
    "execution": {
     "iopub.execute_input": "2021-02-25T11:18:18.273669Z",
     "iopub.status.busy": "2021-02-25T11:18:18.273034Z",
     "iopub.status.idle": "2021-02-25T11:18:18.281813Z",
     "shell.execute_reply": "2021-02-25T11:18:18.281047Z"
    },
    "papermill": {
     "duration": 0.032554,
     "end_time": "2021-02-25T11:18:18.282004",
     "exception": false,
     "start_time": "2021-02-25T11:18:18.249450",
     "status": "completed"
    },
    "tags": []
   },
   "outputs": [
    {
     "name": "stdout",
     "output_type": "stream",
     "text": [
      "shape of x : (90, 6)\n",
      "shape of y: (90,)\n"
     ]
    }
   ],
   "source": [
    "x=df.drop('Result_of_Treatment',axis=1)\n",
    "y=df['Result_of_Treatment']\n",
    "print(\"shape of x :\",x.shape)\n",
    "print(\"shape of y:\",y.shape)"
   ]
  },
  {
   "cell_type": "markdown",
   "metadata": {
    "papermill": {
     "duration": 0.020951,
     "end_time": "2021-02-25T11:18:18.325066",
     "exception": false,
     "start_time": "2021-02-25T11:18:18.304115",
     "status": "completed"
    },
    "tags": []
   },
   "source": [
    "# Train Test Split with split ratio 0.3"
   ]
  },
  {
   "cell_type": "code",
   "execution_count": 9,
   "metadata": {
    "execution": {
     "iopub.execute_input": "2021-02-25T11:18:18.374570Z",
     "iopub.status.busy": "2021-02-25T11:18:18.373920Z",
     "iopub.status.idle": "2021-02-25T11:18:19.434768Z",
     "shell.execute_reply": "2021-02-25T11:18:19.435260Z"
    },
    "papermill": {
     "duration": 1.088711,
     "end_time": "2021-02-25T11:18:19.435431",
     "exception": false,
     "start_time": "2021-02-25T11:18:18.346720",
     "status": "completed"
    },
    "tags": []
   },
   "outputs": [
    {
     "name": "stdout",
     "output_type": "stream",
     "text": [
      "x_train shape : (63, 6)\n",
      "x_test shape (27, 6)\n",
      "y_train shape : (63,)\n",
      "y_test shape : (27,)\n"
     ]
    }
   ],
   "source": [
    "from sklearn.model_selection import train_test_split\n",
    "x_train,x_test,y_train,y_test=train_test_split(x,y,test_size=0.3,stratify=y, random_state=42, shuffle=True)\n",
    "print(\"x_train shape :\",x_train.shape)\n",
    "print(\"x_test shape\", x_test.shape)\n",
    "print(\"y_train shape :\", y_train.shape)\n",
    "print(\"y_test shape :\", y_test.shape)"
   ]
  },
  {
   "cell_type": "markdown",
   "metadata": {
    "papermill": {
     "duration": 0.021185,
     "end_time": "2021-02-25T11:18:19.478853",
     "exception": false,
     "start_time": "2021-02-25T11:18:19.457668",
     "status": "completed"
    },
    "tags": []
   },
   "source": [
    "# Build MLP Model"
   ]
  },
  {
   "cell_type": "code",
   "execution_count": 10,
   "metadata": {
    "execution": {
     "iopub.execute_input": "2021-02-25T11:18:19.527520Z",
     "iopub.status.busy": "2021-02-25T11:18:19.526856Z",
     "iopub.status.idle": "2021-02-25T11:18:19.732071Z",
     "shell.execute_reply": "2021-02-25T11:18:19.732627Z"
    },
    "papermill": {
     "duration": 0.232313,
     "end_time": "2021-02-25T11:18:19.732819",
     "exception": false,
     "start_time": "2021-02-25T11:18:19.500506",
     "status": "completed"
    },
    "tags": []
   },
   "outputs": [
    {
     "name": "stderr",
     "output_type": "stream",
     "text": [
      "/opt/conda/lib/python3.7/site-packages/sklearn/neural_network/_multilayer_perceptron.py:617: ConvergenceWarning: Stochastic Optimizer: Maximum iterations (300) reached and the optimization hasn't converged yet.\n",
      "  % self.max_iter, ConvergenceWarning)\n"
     ]
    }
   ],
   "source": [
    "from sklearn.neural_network import MLPClassifier    #using sklearn library for MLPClassifier\n",
    "clf = MLPClassifier(random_state=42, max_iter=300).fit(x_train, y_train)   #iterations 300\n",
    "predicted=clf.predict(x_test)      \n",
    "clf1=clf.score(x_test, y_test)"
   ]
  },
  {
   "cell_type": "code",
   "execution_count": 11,
   "metadata": {
    "execution": {
     "iopub.execute_input": "2021-02-25T11:18:19.782415Z",
     "iopub.status.busy": "2021-02-25T11:18:19.781774Z",
     "iopub.status.idle": "2021-02-25T11:18:19.785265Z",
     "shell.execute_reply": "2021-02-25T11:18:19.785891Z"
    },
    "papermill": {
     "duration": 0.031069,
     "end_time": "2021-02-25T11:18:19.786065",
     "exception": false,
     "start_time": "2021-02-25T11:18:19.754996",
     "status": "completed"
    },
    "tags": []
   },
   "outputs": [
    {
     "name": "stdout",
     "output_type": "stream",
     "text": [
      "AUC Score : 92.59\n"
     ]
    }
   ],
   "source": [
    "#calculate the AUC Score\n",
    "AUC_score='%.2f'%(clf1*100)\n",
    "print(\"AUC Score :\",AUC_score)"
   ]
  },
  {
   "cell_type": "code",
   "execution_count": 12,
   "metadata": {
    "execution": {
     "iopub.execute_input": "2021-02-25T11:18:19.839663Z",
     "iopub.status.busy": "2021-02-25T11:18:19.838778Z",
     "iopub.status.idle": "2021-02-25T11:18:19.841808Z",
     "shell.execute_reply": "2021-02-25T11:18:19.842303Z"
    },
    "papermill": {
     "duration": 0.033756,
     "end_time": "2021-02-25T11:18:19.842466",
     "exception": false,
     "start_time": "2021-02-25T11:18:19.808710",
     "status": "completed"
    },
    "tags": []
   },
   "outputs": [
    {
     "name": "stdout",
     "output_type": "stream",
     "text": [
      "Confusion Matrix :\n",
      " [[12  2]\n",
      " [ 0 13]]\n"
     ]
    }
   ],
   "source": [
    "#confusion matrix\n",
    "from sklearn.metrics import confusion_matrix\n",
    "CM = confusion_matrix(y_test, predicted, labels=[1, 0])\n",
    "print(\"Confusion Matrix :\\n\",CM)"
   ]
  },
  {
   "cell_type": "markdown",
   "metadata": {
    "papermill": {
     "duration": 0.022793,
     "end_time": "2021-02-25T11:18:19.887927",
     "exception": false,
     "start_time": "2021-02-25T11:18:19.865134",
     "status": "completed"
    },
    "tags": []
   },
   "source": [
    "# Calculation from Confusion Matrix\n",
    "![](https://miro.medium.com/proxy/0*-oGC3SE8sPCPdmxs.jpg)"
   ]
  },
  {
   "cell_type": "code",
   "execution_count": 13,
   "metadata": {
    "execution": {
     "iopub.execute_input": "2021-02-25T11:18:19.942160Z",
     "iopub.status.busy": "2021-02-25T11:18:19.941317Z",
     "iopub.status.idle": "2021-02-25T11:18:19.944503Z",
     "shell.execute_reply": "2021-02-25T11:18:19.945049Z"
    },
    "papermill": {
     "duration": 0.034418,
     "end_time": "2021-02-25T11:18:19.945216",
     "exception": false,
     "start_time": "2021-02-25T11:18:19.910798",
     "status": "completed"
    },
    "tags": []
   },
   "outputs": [
    {
     "name": "stdout",
     "output_type": "stream",
     "text": [
      "Sensitivity : 1.0\n",
      "Specificity : 0.8571428571428571\n",
      "Precision : 0.8666666666666667\n",
      "Recall : 1.0\n"
     ]
    }
   ],
   "source": [
    "#calculate specificity,sensitivity, precision and recall\n",
    "SENSITIVITY = CM[1, 1] / (CM[1, 1] + CM[1, 0])\n",
    "specificity1 = CM[0, 0] / (CM[0, 0] + CM[0, 1])\n",
    "PRECISION = CM[1, 1] / (CM[1, 1] + CM[0, 1])\n",
    "recall = CM[1, 1] / (CM[1, 1] + CM[1, 0])\n",
    "print(\"Sensitivity :\",SENSITIVITY)\n",
    "print(\"Specificity :\",specificity1)\n",
    "print(\"Precision :\",PRECISION)\n",
    "print(\"Recall :\",recall)"
   ]
  },
  {
   "cell_type": "code",
   "execution_count": 14,
   "metadata": {
    "execution": {
     "iopub.execute_input": "2021-02-25T11:18:19.999779Z",
     "iopub.status.busy": "2021-02-25T11:18:19.999142Z",
     "iopub.status.idle": "2021-02-25T11:18:20.003936Z",
     "shell.execute_reply": "2021-02-25T11:18:20.003389Z"
    },
    "papermill": {
     "duration": 0.034309,
     "end_time": "2021-02-25T11:18:20.004079",
     "exception": false,
     "start_time": "2021-02-25T11:18:19.969770",
     "status": "completed"
    },
    "tags": []
   },
   "outputs": [
    {
     "name": "stdout",
     "output_type": "stream",
     "text": [
      "Accuracy :  92.59 %\n"
     ]
    }
   ],
   "source": [
    "#Lets calculate accuracy for mlp model\n",
    "from sklearn.metrics import accuracy_score\n",
    "mlp_accuracy=accuracy_score(y_test,predicted)\n",
    "print(\"Accuracy : \",'%.2f'%(mlp_accuracy*100),\"%\")"
   ]
  }
 ],
 "metadata": {
  "kernelspec": {
   "display_name": "Python 3",
   "language": "python",
   "name": "python3"
  },
  "language_info": {
   "codemirror_mode": {
    "name": "ipython",
    "version": 3
   },
   "file_extension": ".py",
   "mimetype": "text/x-python",
   "name": "python",
   "nbconvert_exporter": "python",
   "pygments_lexer": "ipython3",
   "version": "3.7.9"
  },
  "papermill": {
   "default_parameters": {},
   "duration": 27.563451,
   "end_time": "2021-02-25T11:18:20.739109",
   "environment_variables": {},
   "exception": null,
   "input_path": "__notebook__.ipynb",
   "output_path": "__notebook__.ipynb",
   "parameters": {},
   "start_time": "2021-02-25T11:17:53.175658",
   "version": "2.2.2"
  }
 },
 "nbformat": 4,
 "nbformat_minor": 4
}
